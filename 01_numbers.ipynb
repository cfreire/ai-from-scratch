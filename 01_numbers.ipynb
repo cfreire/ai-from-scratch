{
 "cells": [
  {
   "cell_type": "markdown",
   "id": "89e45545",
   "metadata": {},
   "source": [
    "# Simple RNN Model\n",
    "Lear how to predict the next number"
   ]
  },
  {
   "cell_type": "markdown",
   "id": "97df81ba",
   "metadata": {},
   "source": [
    "## Import Libraries"
   ]
  },
  {
   "cell_type": "code",
   "execution_count": 1,
   "id": "eebcc65b",
   "metadata": {},
   "outputs": [],
   "source": [
    "import torch\n",
    "import torch.nn as nn"
   ]
  },
  {
   "cell_type": "markdown",
   "id": "2e0c1b68",
   "metadata": {},
   "source": [
    "## Set seed for reproducibility\n",
    "So you get the same results"
   ]
  },
  {
   "cell_type": "code",
   "execution_count": 2,
   "id": "eaa9db65",
   "metadata": {},
   "outputs": [
    {
     "data": {
      "text/plain": [
       "'2.7.1+xpu'"
      ]
     },
     "execution_count": 2,
     "metadata": {},
     "output_type": "execute_result"
    }
   ],
   "source": [
    "torch.manual_seed(0)\n",
    "torch.__version__"
   ]
  },
  {
   "cell_type": "code",
   "execution_count": 3,
   "id": "afc83e9f",
   "metadata": {},
   "outputs": [
    {
     "name": "stdout",
     "output_type": "stream",
     "text": [
      "inputs.tolist()=[[[1.0]], [[2.0]], [[3.0]]]\n",
      "targets.tolist()=[[2.0], [3.0], [1.0]]\n"
     ]
    }
   ],
   "source": [
    "# Data: input -> output pairs\n",
    "\n",
    "inputs =  torch.tensor([[1.0], [2.0], [3.0]], dtype=torch.float32).unsqueeze(1) \n",
    "targets = torch.tensor([[2.0], [3.0], [1.0]], dtype=torch.float32)\n",
    "print(f'{inputs.tolist()=}')\n",
    "print(f'{targets.tolist()=}')"
   ]
  },
  {
   "cell_type": "markdown",
   "id": "4d5322bb",
   "metadata": {},
   "source": [
    "## Define a simple RNN model"
   ]
  },
  {
   "cell_type": "code",
   "execution_count": 4,
   "id": "f5027e13",
   "metadata": {},
   "outputs": [],
   "source": [
    "class SimpleRNN(nn.Module):\n",
    "    def __init__(self):\n",
    "        super(SimpleRNN, self).__init__()\n",
    "        self.rnn = nn.RNN(input_size=1, hidden_size=2, batch_first=True)\n",
    "        self.fc = nn.Linear(2, 1)\n",
    "\n",
    "    def forward(self, x):\n",
    "        out, _ = self.rnn(x)\n",
    "        out = self.fc(out[:, -1, :])\n",
    "        return out"
   ]
  },
  {
   "cell_type": "markdown",
   "id": "f073c3e4",
   "metadata": {},
   "source": [
    "## Initialize model, loss function and optimizer"
   ]
  },
  {
   "cell_type": "code",
   "execution_count": 5,
   "id": "b256a34e",
   "metadata": {},
   "outputs": [],
   "source": [
    "model = SimpleRNN()\n",
    "criterion = nn.MSELoss()\n",
    "optimizer = torch.optim.Adam(model.parameters(), lr=0.01)"
   ]
  },
  {
   "cell_type": "markdown",
   "id": "c20bdb41",
   "metadata": {},
   "source": [
    "## Train the model"
   ]
  },
  {
   "cell_type": "code",
   "execution_count": 6,
   "id": "c1e4b2b0",
   "metadata": {},
   "outputs": [
    {
     "name": "stdout",
     "output_type": "stream",
     "text": [
      "Epoch 100, Loss: 0.7819\n",
      "Epoch 200, Loss: 0.6763\n",
      "Epoch 300, Loss: 0.6739\n",
      "Epoch 400, Loss: 0.6722\n",
      "Epoch 500, Loss: 0.6711\n",
      "Epoch 600, Loss: 0.6702\n",
      "Epoch 700, Loss: 0.6695\n",
      "Epoch 800, Loss: 0.6691\n",
      "Epoch 900, Loss: 0.6687\n",
      "Epoch 1000, Loss: 0.6684\n"
     ]
    }
   ],
   "source": [
    "for epoch in range(1000):\n",
    "    output = model(inputs)\n",
    "    loss = criterion(output, targets)\n",
    "\n",
    "    optimizer.zero_grad()\n",
    "    loss.backward()\n",
    "    optimizer.step()\n",
    "\n",
    "    if (epoch + 1) % 100 == 0:\n",
    "        print(f\"Epoch {epoch+1}, Loss: {loss.item():.4f}\")"
   ]
  },
  {
   "cell_type": "markdown",
   "id": "d345c61f",
   "metadata": {},
   "source": [
    "## Validate model\n",
    "Use test on input 1 and 2"
   ]
  },
  {
   "cell_type": "code",
   "execution_count": 7,
   "id": "f3671aa6",
   "metadata": {},
   "outputs": [
    {
     "name": "stdout",
     "output_type": "stream",
     "text": [
      "Input: 1 → Predicted: 1.99\n",
      "Input: 2 → Predicted: 2.00\n"
     ]
    }
   ],
   "source": [
    "with torch.no_grad():\n",
    "    test_input = torch.tensor([[1.0]], dtype=torch.float32).unsqueeze(1)\n",
    "    prediction = model(test_input).item()\n",
    "    print(f\"Input: 1 → Predicted: {prediction:.2f}\")\n",
    "\n",
    "    test_input = torch.tensor([[2.0]], dtype=torch.float32).unsqueeze(1)\n",
    "    prediction = model(test_input).item()\n",
    "    print(f\"Input: 2 → Predicted: {prediction:.2f}\")"
   ]
  },
  {
   "cell_type": "markdown",
   "id": "c319f38a",
   "metadata": {},
   "source": [
    "## Test with unseen data"
   ]
  },
  {
   "cell_type": "code",
   "execution_count": 8,
   "id": "d751e28f",
   "metadata": {},
   "outputs": [
    {
     "name": "stdout",
     "output_type": "stream",
     "text": [
      "Input: 4 → Predicted: 2.01\n"
     ]
    }
   ],
   "source": [
    "with torch.no_grad():\n",
    "    test_input = torch.tensor([[4.0]], dtype=torch.float32).unsqueeze(1)\n",
    "    prediction = model(test_input).item()\n",
    "    print(f\"Input: 4 → Predicted: {prediction:.2f}\")"
   ]
  }
 ],
 "metadata": {
  "kernelspec": {
   "display_name": "llm-venv",
   "language": "python",
   "name": "python3"
  },
  "language_info": {
   "codemirror_mode": {
    "name": "ipython",
    "version": 3
   },
   "file_extension": ".py",
   "mimetype": "text/x-python",
   "name": "python",
   "nbconvert_exporter": "python",
   "pygments_lexer": "ipython3",
   "version": "3.12.3"
  }
 },
 "nbformat": 4,
 "nbformat_minor": 5
}
