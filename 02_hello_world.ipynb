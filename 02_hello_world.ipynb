{
 "cells": [
  {
   "cell_type": "markdown",
   "id": "886c5caf",
   "metadata": {},
   "source": [
    "## Predict next letter\n",
    "'Hello world'"
   ]
  },
  {
   "cell_type": "code",
   "execution_count": 1,
   "id": "0adfba57",
   "metadata": {},
   "outputs": [],
   "source": [
    "import torch\n",
    "import torch.nn as nn"
   ]
  },
  {
   "cell_type": "markdown",
   "id": "d99a9d04",
   "metadata": {},
   "source": [
    "## Sample text data"
   ]
  },
  {
   "cell_type": "code",
   "execution_count": 2,
   "id": "3e4a5e5b",
   "metadata": {},
   "outputs": [
    {
     "name": "stdout",
     "output_type": "stream",
     "text": [
      "{0: ' ', 1: 'd', 2: 'e', 3: 'h', 4: 'l', 5: 'o', 6: 'r', 7: 'w'}\n"
     ]
    }
   ],
   "source": [
    "text = \"hello world\"\n",
    "chars = sorted(list(set(text)))\n",
    "char2idx = {c: i for i, c in enumerate(chars)}\n",
    "idx2char = {i: c for i, c in enumerate(chars)}\n",
    "vocab_size = len(chars)\n",
    "print(idx2char)"
   ]
  },
  {
   "cell_type": "markdown",
   "id": "e21fe655",
   "metadata": {},
   "source": [
    "## Prepare data"
   ]
  },
  {
   "cell_type": "code",
   "execution_count": 3,
   "id": "05e05fca",
   "metadata": {},
   "outputs": [
    {
     "name": "stdout",
     "output_type": "stream",
     "text": [
      "X= [[3, 2, 4, 4], [2, 4, 4, 5], [4, 4, 5, 0], [4, 5, 0, 7], [5, 0, 7, 5], [0, 7, 5, 6], [7, 5, 6, 4]]\n",
      "Y= [5, 0, 7, 5, 6, 4, 1]\n"
     ]
    }
   ],
   "source": [
    "seq_length = 4\n",
    "X = []\n",
    "y = []\n",
    "for i in range(len(text) - seq_length):\n",
    "    input_seq = [char2idx[c] for c in text[i:i + seq_length]]\n",
    "    target = char2idx[text[i + seq_length]]\n",
    "    X.append(input_seq)\n",
    "    y.append(target)\n",
    "print('X=', X)\n",
    "print('Y=', y)"
   ]
  },
  {
   "cell_type": "markdown",
   "id": "e4c62232",
   "metadata": {},
   "source": [
    "## Convert to torch tensor"
   ]
  },
  {
   "cell_type": "code",
   "execution_count": 4,
   "id": "639a752d",
   "metadata": {},
   "outputs": [
    {
     "data": {
      "text/plain": [
       "tensor([[3, 2, 4, 4],\n",
       "        [2, 4, 4, 5],\n",
       "        [4, 4, 5, 0],\n",
       "        [4, 5, 0, 7],\n",
       "        [5, 0, 7, 5],\n",
       "        [0, 7, 5, 6],\n",
       "        [7, 5, 6, 4]])"
      ]
     },
     "execution_count": 4,
     "metadata": {},
     "output_type": "execute_result"
    }
   ],
   "source": [
    "X = torch.tensor(X, dtype=torch.long)\n",
    "y = torch.tensor(y, dtype=torch.long)\n",
    "X"
   ]
  },
  {
   "cell_type": "markdown",
   "id": "cd1a58de",
   "metadata": {},
   "source": [
    "## Define the model"
   ]
  },
  {
   "cell_type": "code",
   "execution_count": 5,
   "id": "8b201393",
   "metadata": {},
   "outputs": [],
   "source": [
    "class CharRNN(nn.Module):\n",
    "    def __init__(self, vocab_size, hidden_size=64):\n",
    "        super().__init__()\n",
    "        self.embed = nn.Embedding(vocab_size, hidden_size)\n",
    "        self.rnn = nn.RNN(hidden_size, hidden_size, batch_first=True)\n",
    "        self.fc = nn.Linear(hidden_size, vocab_size)\n",
    "\n",
    "    def forward(self, x):\n",
    "        x = self.embed(x)\n",
    "        out, _ = self.rnn(x)\n",
    "        out = self.fc(out[:, -1, :])\n",
    "        return out\n",
    "\n",
    "model = CharRNN(vocab_size)\n",
    "optimizer = torch.optim.Adam(model.parameters(), lr=0.01)\n",
    "loss_fn = nn.CrossEntropyLoss()"
   ]
  },
  {
   "cell_type": "markdown",
   "id": "f30ac038",
   "metadata": {},
   "source": [
    "## Training"
   ]
  },
  {
   "cell_type": "code",
   "execution_count": 6,
   "id": "867ba269",
   "metadata": {},
   "outputs": [
    {
     "name": "stdout",
     "output_type": "stream",
     "text": [
      "Epoch 50, Loss: 0.0005\n",
      "Epoch 100, Loss: 0.0003\n",
      "Epoch 150, Loss: 0.0002\n",
      "Epoch 200, Loss: 0.0002\n"
     ]
    }
   ],
   "source": [
    "for epoch in range(200):\n",
    "    model.train()\n",
    "    optimizer.zero_grad()\n",
    "    output = model(X)\n",
    "    loss = loss_fn(output, y)\n",
    "    loss.backward()\n",
    "    optimizer.step()\n",
    "    if (epoch + 1) % 50 == 0:\n",
    "        print(f\"Epoch {epoch+1}, Loss: {loss.item():.4f}\")"
   ]
  },
  {
   "cell_type": "markdown",
   "id": "ebcfb488",
   "metadata": {},
   "source": [
    "## Predict next letter\n"
   ]
  },
  {
   "cell_type": "code",
   "execution_count": 16,
   "id": "5f6d5762",
   "metadata": {},
   "outputs": [],
   "source": [
    "def predict_next_letter(seed):\n",
    "    model.eval()\n",
    "    result = seed\n",
    "    input_seq = [char2idx[c] for c in seed[-seq_length:]]\n",
    "    x = torch.tensor([input_seq], dtype=torch.long)\n",
    "    with torch.no_grad():\n",
    "            output = model(x)\n",
    "            next_idx = torch.argmax(output, dim=1).item()\n",
    "            next_char = idx2char[next_idx]\n",
    "            result += next_char\n",
    "            seed += next_char\n",
    "    return result"
   ]
  },
  {
   "cell_type": "code",
   "execution_count": 24,
   "id": "bffa95fd",
   "metadata": {},
   "outputs": [
    {
     "data": {
      "text/plain": [
       "'hello'"
      ]
     },
     "execution_count": 24,
     "metadata": {},
     "output_type": "execute_result"
    }
   ],
   "source": [
    "predict_next_letter('hell')"
   ]
  },
  {
   "cell_type": "markdown",
   "id": "b4b2c30d",
   "metadata": {},
   "source": [
    "## Text generation"
   ]
  },
  {
   "cell_type": "code",
   "execution_count": 41,
   "id": "28abed8b",
   "metadata": {},
   "outputs": [],
   "source": [
    "def generate_text(seed, length=len(text)):\n",
    "    model.eval()\n",
    "    result = seed\n",
    "    length -= len(seed)\n",
    "    for _ in range(length):\n",
    "        input_seq = [char2idx[c] for c in seed[-seq_length:]]\n",
    "        x = torch.tensor([input_seq], dtype=torch.long)\n",
    "        with torch.no_grad():\n",
    "            output = model(x)\n",
    "            next_idx = torch.argmax(output, dim=1).item()\n",
    "            next_char = idx2char[next_idx]\n",
    "            result += next_char\n",
    "            seed += next_char\n",
    "    return result"
   ]
  },
  {
   "cell_type": "code",
   "execution_count": 45,
   "id": "299ffd6b",
   "metadata": {},
   "outputs": [
    {
     "data": {
      "text/plain": [
       "'hello world'"
      ]
     },
     "execution_count": 45,
     "metadata": {},
     "output_type": "execute_result"
    }
   ],
   "source": [
    "generate_text(\"hell\")"
   ]
  }
 ],
 "metadata": {
  "kernelspec": {
   "display_name": "llm-venv",
   "language": "python",
   "name": "python3"
  },
  "language_info": {
   "codemirror_mode": {
    "name": "ipython",
    "version": 3
   },
   "file_extension": ".py",
   "mimetype": "text/x-python",
   "name": "python",
   "nbconvert_exporter": "python",
   "pygments_lexer": "ipython3",
   "version": "3.12.3"
  }
 },
 "nbformat": 4,
 "nbformat_minor": 5
}
